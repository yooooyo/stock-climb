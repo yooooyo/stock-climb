{
 "metadata": {
  "language_info": {
   "codemirror_mode": {
    "name": "ipython",
    "version": 3
   },
   "file_extension": ".py",
   "mimetype": "text/x-python",
   "name": "python",
   "nbconvert_exporter": "python",
   "pygments_lexer": "ipython3",
   "version": 3
  },
  "orig_nbformat": 2,
  "kernelspec": {
   "name": "python_defaultSpec_1594985812683",
   "display_name": "Python 3.8.3 64-bit ('venv': conda)"
  }
 },
 "nbformat": 4,
 "nbformat_minor": 2,
 "cells": [
  {
   "cell_type": "code",
   "execution_count": 2,
   "metadata": {},
   "outputs": [],
   "source": [
    "import requests as rq\n",
    "import json as js\n",
    "import pandas as pd"
   ]
  },
  {
   "cell_type": "code",
   "execution_count": 3,
   "metadata": {
    "tags": []
   },
   "outputs": [
    {
     "output_type": "stream",
     "name": "stdout",
     "text": "https://mis.twse.com.tw/stock/api/getStockInfo.jsp?ex_ch=tse_2330.tw&json=1&delay=0\n"
    },
    {
     "output_type": "execute_result",
     "data": {
      "text/plain": "200"
     },
     "metadata": {},
     "execution_count": 3
    }
   ],
   "source": [
    "\n",
    "tse_or_otc = 'tse'\n",
    "stock_num = '2330'\n",
    "tw = '.tw'\n",
    "dateyear = None\n",
    "data = [tse_or_otc,stock_num+tw,dateyear]\n",
    "data = '_'.join([i for i in data if i])\n",
    "url = f'https://mis.twse.com.tw/stock/api/getStockInfo.jsp?ex_ch={data}&json=1&delay=0'\n",
    "print(url)\n",
    "r = rq.get(url)\n",
    "r.status_code"
   ]
  },
  {
   "cell_type": "code",
   "execution_count": 4,
   "metadata": {
    "tags": []
   },
   "outputs": [
    {
     "output_type": "stream",
     "name": "stdout",
     "text": "<class 'dict'>\n"
    },
    {
     "output_type": "execute_result",
     "data": {
      "text/plain": "{'ob': '367.5000',\n 'fv': '175',\n 'n': '台積電',\n 'g': '956_83_104_52_1388_',\n 'u': '393.0000',\n 'mt': '000000',\n 'ps': '3980',\n 'o': '361.0000',\n 'oa': '368.0000',\n 'tk0': '2330.tw_tse_20200717_B_9998377320',\n 'a': '367.5000_368.0000_368.5000_369.0000_369.5000_',\n 'oz': '367.5000',\n 'tlong': '1594967400000',\n 't': '13:30:00',\n 'it': '12',\n 'ch': '2330.tw',\n 'b': '367.0000_366.5000_366.0000_365.5000_365.0000_',\n 'f': '662_825_667_1755_478_',\n 'w': '322.0000',\n 'pz': '367.0000',\n 'l': '360.0000',\n 'c': '2330',\n 'v': '65398',\n 'd': '20200717',\n 'tv': '3986',\n 'tk1': '2330.tw_tse_20200717_B_9998321578',\n 'ts': '0',\n 'nf': '台灣積體電路製造股份有限公司',\n 'ov': '154485',\n 'y': '357.5000',\n 'p': '0',\n 'i': '24',\n 'ip': '0',\n 'z': '367.0000',\n 's': '3986',\n 'ot': '14:30:00',\n 'h': '369.0000',\n 'ex': 'tse'}"
     },
     "metadata": {},
     "execution_count": 4
    }
   ],
   "source": [
    "data = js.loads(r.text)\n",
    "data = data['msgArray'][0]\n",
    "print(type(data))\n",
    "data"
   ]
  },
  {
   "cell_type": "code",
   "execution_count": 5,
   "metadata": {
    "tags": []
   },
   "outputs": [
    {
     "output_type": "stream",
     "name": "stdout",
     "text": "公司簡稱 台積電\n漲停價 393.0000\n開盤 361.0000\n揭示賣價(從低到高，以_分隔資料) 367.5000_368.0000_368.5000_369.0000_369.5000_\n毫秒數 1594967400000\n最近成交時刻(HH:MM:SS) 13:30:00\n揭示賣價 367.0000_366.5000_366.0000_365.5000_365.0000_\n賣量 662_825_667_1755_478_\n跌停價 322.0000\n最低 360.0000\n股票代號 2330\n累積成交量 65398\n最近交易日期 20200717\n當盤成交量 3986\n公司全名 台灣積體電路製造股份有限公司\n昨收 357.5000\n當盤成交價 367.0000\n最高 369.0000\n上市別 上市:tse，上櫃:otc，空白:已下市或下櫃 tse\n"
    }
   ],
   "source": [
    "stock_info={\n",
    "    'tlong':'毫秒數',\n",
    "    'f' :'賣量',\n",
    "    'ex':'上市別 上市:tse，上櫃:otc，空白:已下市或下櫃',\n",
    "    'b' :'揭示賣量',\n",
    "    'd' :'最近交易日期',\n",
    "    'b' :'揭示賣價',\n",
    "    'c' :'股票代號',\n",
    "    'a'\t:'揭示賣價(從低到高，以_分隔資料)',\n",
    "    'n'\t:'公司簡稱',\n",
    "    'o'\t:'開盤',\n",
    "    'l'\t:'最低',\n",
    "    'h'\t:'最高',\n",
    "    'w'\t:'跌停價',\n",
    "    'v'\t:'累積成交量',\n",
    "    'u'\t:'漲停價',\n",
    "    't'\t:'最近成交時刻(HH:MM:SS)',\n",
    "    'tv':'當盤成交量',\n",
    "    'nf':'公司全名',\n",
    "    'z'\t:'當盤成交價',\n",
    "    'y'\t:'昨收'\n",
    "}\n",
    "\n",
    "for k,v in data.items():\n",
    "    try:\n",
    "        print(f'{stock_info[k]} {v}')\n",
    "    except:\n",
    "        pass"
   ]
  },
  {
   "cell_type": "code",
   "execution_count": 6,
   "metadata": {},
   "outputs": [
    {
     "output_type": "execute_result",
     "data": {
      "text/plain": "200"
     },
     "metadata": {},
     "execution_count": 6
    }
   ],
   "source": [
    "rq.codes.ALL_OK"
   ]
  },
  {
   "cell_type": "code",
   "execution_count": null,
   "metadata": {},
   "outputs": [],
   "source": [
    "def get_stock_info(stock_num,tse_or_otc,dateyear):\n",
    "    '''\n",
    "    stock_num : stock number, ex: 2330\n",
    "    tse_or_otc: 上市:tse，上櫃:otc\n",
    "    dateyear  : YYYYMMDD\n",
    "    '''\n",
    "    data = [tse_or_otc,stock_num+tw,dateyear]\n",
    "    data = '_'.join([i for i in data if i])\n",
    "    url = f'https://mis.twse.com.tw/stock/api/getStockInfo.jsp?ex_ch={data}&json=1&delay=0'\n",
    "    r = rq.get(url)\n",
    "    if r.status_code == rq.codes.ALL_OK:\n",
    "        data = js.loads(r.text)\n",
    "        return data['msgArray'][0]\n"
   ]
  }
 ]
}